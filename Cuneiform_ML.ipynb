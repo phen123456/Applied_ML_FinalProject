{
 "cells": [
  {
   "cell_type": "code",
   "execution_count": 24,
   "id": "c77891e9-1231-48cb-89a1-e0e2f7c33343",
   "metadata": {},
   "outputs": [
    {
     "name": "stdout",
     "output_type": "stream",
     "text": [
      "Num GPUs Available: 1\n"
     ]
    }
   ],
   "source": [
    "#Check to see if gpu is available, should print 1\n",
    "import tensorflow as tf\n",
    "print(\"Num GPUs Available:\", len(tf.config.experimental.list_physical_devices('GPU')))"
   ]
  },
  {
   "cell_type": "code",
   "execution_count": 16,
   "id": "a316792a-f712-4ec6-b371-66012f2e32e6",
   "metadata": {},
   "outputs": [],
   "source": [
    "import pandas as pd\n",
    "import numpy as np\n",
    "\n",
    "from sklearn.model_selection import train_test_split"
   ]
  },
  {
   "cell_type": "code",
   "execution_count": 8,
   "id": "63b818e3-81f0-4ae5-9d2c-08dc799de5c3",
   "metadata": {},
   "outputs": [
    {
     "data": {
      "text/html": [
       "<div>\n",
       "<style scoped>\n",
       "    .dataframe tbody tr th:only-of-type {\n",
       "        vertical-align: middle;\n",
       "    }\n",
       "\n",
       "    .dataframe tbody tr th {\n",
       "        vertical-align: top;\n",
       "    }\n",
       "\n",
       "    .dataframe thead th {\n",
       "        text-align: right;\n",
       "    }\n",
       "</style>\n",
       "<table border=\"1\" class=\"dataframe\">\n",
       "  <thead>\n",
       "    <tr style=\"text-align: right;\">\n",
       "      <th></th>\n",
       "      <th>cuneiform</th>\n",
       "      <th>lang</th>\n",
       "    </tr>\n",
       "  </thead>\n",
       "  <tbody>\n",
       "    <tr>\n",
       "      <th>0</th>\n",
       "      <td>𒃻𒋻𒃻𒍜𒋾𒅅𒅟𒈨𒌍𒃻𒇽𒍑𒆪𒈨𒌍𒌗𒋢𒈨𒌍</td>\n",
       "      <td>LTB</td>\n",
       "    </tr>\n",
       "    <tr>\n",
       "      <th>1</th>\n",
       "      <td>𒊹𒌋𒀀𒈨𒌍𒋙𒊹𒈪𒋻𒋾𒅅𒅟</td>\n",
       "      <td>LTB</td>\n",
       "    </tr>\n",
       "    <tr>\n",
       "      <th>2</th>\n",
       "      <td>𒊹𒀀𒃻𒊹𒊹</td>\n",
       "      <td>LTB</td>\n",
       "    </tr>\n",
       "    <tr>\n",
       "      <th>3</th>\n",
       "      <td>𒊹𒀀𒃻𒊹𒊹</td>\n",
       "      <td>LTB</td>\n",
       "    </tr>\n",
       "    <tr>\n",
       "      <th>4</th>\n",
       "      <td>𒊹𒌋𒊹𒀀𒈨𒌍𒃻𒊹𒈦</td>\n",
       "      <td>LTB</td>\n",
       "    </tr>\n",
       "    <tr>\n",
       "      <th>5</th>\n",
       "      <td>𒀀𒋙𒃻𒁹𒀭𒈾𒈾𒀀𒈬𒀀𒃻𒊹𒈪𒋻</td>\n",
       "      <td>LTB</td>\n",
       "    </tr>\n",
       "    <tr>\n",
       "      <th>6</th>\n",
       "      <td>𒊹𒀀𒃻𒊹𒊹𒈨𒌍𒋡</td>\n",
       "      <td>LTB</td>\n",
       "    </tr>\n",
       "    <tr>\n",
       "      <th>7</th>\n",
       "      <td>𒊹𒀀𒃻𒁹𒉡𒌨𒌋𒊹𒀀𒃻𒁹𒀭𒌓𒈬𒉡𒊹𒊹𒋫𒊹</td>\n",
       "      <td>LTB</td>\n",
       "    </tr>\n",
       "    <tr>\n",
       "      <th>8</th>\n",
       "      <td>𒉽𒊹𒋾𒅅𒅟𒃻𒇻𒀴𒀭𒋙𒄿𒋻𒊑</td>\n",
       "      <td>LTB</td>\n",
       "    </tr>\n",
       "    <tr>\n",
       "      <th>9</th>\n",
       "      <td>𒍜𒋾𒅅𒅟𒈨𒌍𒃻𒄞</td>\n",
       "      <td>LTB</td>\n",
       "    </tr>\n",
       "  </tbody>\n",
       "</table>\n",
       "</div>"
      ],
      "text/plain": [
       "             cuneiform lang\n",
       "0  𒃻𒋻𒃻𒍜𒋾𒅅𒅟𒈨𒌍𒃻𒇽𒍑𒆪𒈨𒌍𒌗𒋢𒈨𒌍  LTB\n",
       "1         𒊹𒌋𒀀𒈨𒌍𒋙𒊹𒈪𒋻𒋾𒅅𒅟  LTB\n",
       "2                𒊹𒀀𒃻𒊹𒊹  LTB\n",
       "3                𒊹𒀀𒃻𒊹𒊹  LTB\n",
       "4            𒊹𒌋𒊹𒀀𒈨𒌍𒃻𒊹𒈦  LTB\n",
       "5       𒀀𒋙𒃻𒁹𒀭𒈾𒈾𒀀𒈬𒀀𒃻𒊹𒈪𒋻  LTB\n",
       "6             𒊹𒀀𒃻𒊹𒊹𒈨𒌍𒋡  LTB\n",
       "7  𒊹𒀀𒃻𒁹𒉡𒌨𒌋𒊹𒀀𒃻𒁹𒀭𒌓𒈬𒉡𒊹𒊹𒋫𒊹  LTB\n",
       "8        𒉽𒊹𒋾𒅅𒅟𒃻𒇻𒀴𒀭𒋙𒄿𒋻𒊑  LTB\n",
       "9             𒍜𒋾𒅅𒅟𒈨𒌍𒃻𒄞  LTB"
      ]
     },
     "execution_count": 8,
     "metadata": {},
     "output_type": "execute_result"
    }
   ],
   "source": [
    "df = pd.read_csv(\"train.csv\")\n",
    "df.head(10)"
   ]
  },
  {
   "cell_type": "code",
   "execution_count": 20,
   "id": "43e9f530-4f91-4b92-9d94-f152029483cc",
   "metadata": {},
   "outputs": [
    {
     "data": {
      "text/html": [
       "<div>\n",
       "<style scoped>\n",
       "    .dataframe tbody tr th:only-of-type {\n",
       "        vertical-align: middle;\n",
       "    }\n",
       "\n",
       "    .dataframe tbody tr th {\n",
       "        vertical-align: top;\n",
       "    }\n",
       "\n",
       "    .dataframe thead th {\n",
       "        text-align: right;\n",
       "    }\n",
       "</style>\n",
       "<table border=\"1\" class=\"dataframe\">\n",
       "  <thead>\n",
       "    <tr style=\"text-align: right;\">\n",
       "      <th></th>\n",
       "      <th>cuneiform</th>\n",
       "      <th>lang</th>\n",
       "    </tr>\n",
       "  </thead>\n",
       "  <tbody>\n",
       "    <tr>\n",
       "      <th>139411</th>\n",
       "      <td>𒄑𒀳𒋗𒌌</td>\n",
       "      <td>SUX</td>\n",
       "    </tr>\n",
       "    <tr>\n",
       "      <th>139412</th>\n",
       "      <td>𒄑𒀳𒋗𒉡𒌌</td>\n",
       "      <td>SUX</td>\n",
       "    </tr>\n",
       "    <tr>\n",
       "      <th>139413</th>\n",
       "      <td>𒄑𒀳𒄭𒆥</td>\n",
       "      <td>SUX</td>\n",
       "    </tr>\n",
       "    <tr>\n",
       "      <th>139414</th>\n",
       "      <td>𒄑𒀳𒀠𒍣𒊏</td>\n",
       "      <td>SUX</td>\n",
       "    </tr>\n",
       "    <tr>\n",
       "      <th>139415</th>\n",
       "      <td>𒄑𒀳𒋗</td>\n",
       "      <td>SUX</td>\n",
       "    </tr>\n",
       "    <tr>\n",
       "      <th>139416</th>\n",
       "      <td>𒄑𒀳𒋗𒌌</td>\n",
       "      <td>SUX</td>\n",
       "    </tr>\n",
       "    <tr>\n",
       "      <th>139417</th>\n",
       "      <td>𒄑𒀳𒋗𒉡𒌌</td>\n",
       "      <td>SUX</td>\n",
       "    </tr>\n",
       "    <tr>\n",
       "      <th>139418</th>\n",
       "      <td>𒄑𒀳𒄭𒆥</td>\n",
       "      <td>SUX</td>\n",
       "    </tr>\n",
       "    <tr>\n",
       "      <th>139419</th>\n",
       "      <td>𒄑𒀳𒀠𒍣𒊏</td>\n",
       "      <td>SUX</td>\n",
       "    </tr>\n",
       "    <tr>\n",
       "      <th>139420</th>\n",
       "      <td>𒄑𒀳𒋗</td>\n",
       "      <td>SUX</td>\n",
       "    </tr>\n",
       "  </tbody>\n",
       "</table>\n",
       "</div>"
      ],
      "text/plain": [
       "       cuneiform lang\n",
       "139411      𒄑𒀳𒋗𒌌  SUX\n",
       "139412     𒄑𒀳𒋗𒉡𒌌  SUX\n",
       "139413      𒄑𒀳𒄭𒆥  SUX\n",
       "139414     𒄑𒀳𒀠𒍣𒊏  SUX\n",
       "139415       𒄑𒀳𒋗  SUX\n",
       "139416      𒄑𒀳𒋗𒌌  SUX\n",
       "139417     𒄑𒀳𒋗𒉡𒌌  SUX\n",
       "139418      𒄑𒀳𒄭𒆥  SUX\n",
       "139419     𒄑𒀳𒀠𒍣𒊏  SUX\n",
       "139420       𒄑𒀳𒋗  SUX"
      ]
     },
     "execution_count": 20,
     "metadata": {},
     "output_type": "execute_result"
    }
   ],
   "source": [
    "df.tail(10)"
   ]
  },
  {
   "cell_type": "code",
   "execution_count": 9,
   "id": "e0ff5e88-ae98-4b24-b9b7-44c031d8ade9",
   "metadata": {},
   "outputs": [
    {
     "name": "stdout",
     "output_type": "stream",
     "text": [
      "<class 'pandas.core.frame.DataFrame'>\n",
      "RangeIndex: 139421 entries, 0 to 139420\n",
      "Data columns (total 2 columns):\n",
      " #   Column     Non-Null Count   Dtype \n",
      "---  ------     --------------   ----- \n",
      " 0   cuneiform  139421 non-null  object\n",
      " 1   lang       139421 non-null  object\n",
      "dtypes: object(2)\n",
      "memory usage: 2.1+ MB\n"
     ]
    }
   ],
   "source": [
    "df.info()"
   ]
  },
  {
   "cell_type": "code",
   "execution_count": 21,
   "id": "f037a8db-bf52-43b3-a447-d0d6f51028a2",
   "metadata": {},
   "outputs": [
    {
     "data": {
      "text/plain": [
       "lang\n",
       "SUX    53673\n",
       "NEA    32966\n",
       "STB    17817\n",
       "LTB    15947\n",
       "NEB     9707\n",
       "MPB     5508\n",
       "OLB     3803\n",
       "Name: count, dtype: int64"
      ]
     },
     "execution_count": 21,
     "metadata": {},
     "output_type": "execute_result"
    }
   ],
   "source": [
    "df.lang.value_counts()"
   ]
  },
  {
   "cell_type": "code",
   "execution_count": 19,
   "id": "4a9ae0d0-c37e-4f9e-9cb5-7b11cb974cc9",
   "metadata": {},
   "outputs": [
    {
     "data": {
      "text/html": [
       "<div>\n",
       "<style scoped>\n",
       "    .dataframe tbody tr th:only-of-type {\n",
       "        vertical-align: middle;\n",
       "    }\n",
       "\n",
       "    .dataframe tbody tr th {\n",
       "        vertical-align: top;\n",
       "    }\n",
       "\n",
       "    .dataframe thead th {\n",
       "        text-align: right;\n",
       "    }\n",
       "</style>\n",
       "<table border=\"1\" class=\"dataframe\">\n",
       "  <thead>\n",
       "    <tr style=\"text-align: right;\">\n",
       "      <th></th>\n",
       "      <th>cuneiform</th>\n",
       "      <th>lang</th>\n",
       "    </tr>\n",
       "  </thead>\n",
       "  <tbody>\n",
       "    <tr>\n",
       "      <th>count</th>\n",
       "      <td>139421</td>\n",
       "      <td>139421</td>\n",
       "    </tr>\n",
       "    <tr>\n",
       "      <th>unique</th>\n",
       "      <td>86454</td>\n",
       "      <td>7</td>\n",
       "    </tr>\n",
       "    <tr>\n",
       "      <th>top</th>\n",
       "      <td>𒊹</td>\n",
       "      <td>SUX</td>\n",
       "    </tr>\n",
       "    <tr>\n",
       "      <th>freq</th>\n",
       "      <td>3223</td>\n",
       "      <td>53673</td>\n",
       "    </tr>\n",
       "  </tbody>\n",
       "</table>\n",
       "</div>"
      ],
      "text/plain": [
       "       cuneiform    lang\n",
       "count     139421  139421\n",
       "unique     86454       7\n",
       "top            𒊹     SUX\n",
       "freq        3223   53673"
      ]
     },
     "execution_count": 19,
     "metadata": {},
     "output_type": "execute_result"
    }
   ],
   "source": [
    "#Describe, 7 Different languages, 3223 samples are just the black circle, which is cuneiform for 3,600 or many or totality or world\n",
    "#Cuneiform uses a 6 based numbering system, so 3,600 is 60*60 and not an arbitrary number or a dataset mistake\n",
    "df.describe()"
   ]
  },
  {
   "cell_type": "code",
   "execution_count": 17,
   "id": "e660b6ab-4af4-4187-899d-d1c3c81f3673",
   "metadata": {},
   "outputs": [],
   "source": [
    "#Stratify and split, 80% train, 20% test\n",
    "X_train, X_test = train_test_split(df,test_size=.2,stratify=df['lang'])"
   ]
  },
  {
   "cell_type": "code",
   "execution_count": 18,
   "id": "fafac33d-5062-4711-9707-147f3c569879",
   "metadata": {},
   "outputs": [
    {
     "name": "stdout",
     "output_type": "stream",
     "text": [
      "X train shape - (111536, 2)\n",
      "X test shape - (27885, 2)\n",
      "        cuneiform lang\n",
      "22053   𒆳𒈗𒈨𒌍𒆳𒀀𒁉𒋳𒈠  MPB\n",
      "137497       𒀠𒁯𒊏𒄷  SUX\n",
      "108739      𒅆𒋾𒆠𒅋𒈬  SUX\n",
      "127456         𒁹𒋾  SUX\n",
      "95864      𒋁𒈧𒋫𒌓𒁺𒀀  SUX\n",
      "       cuneiform lang\n",
      "90819       𒀭𒁰𒌉𒁕  SUX\n",
      "82505    𒌑𒄾𒆸𒄭𒁉𒌍𒋙  STB\n",
      "9846         𒉌𒌓𒈩  LTB\n",
      "120412        𒆏𒊬  SUX\n",
      "24972         𒈨𒌍  MPB\n"
     ]
    }
   ],
   "source": [
    "#Print sizes, only two labels, the cuneiform text and the language\n",
    "print(\"X train shape -\", X_train.shape)\n",
    "print(\"X test shape -\", X_test.shape)\n",
    "print(X_train.head())\n",
    "print(X_test.head())"
   ]
  },
  {
   "cell_type": "code",
   "execution_count": 22,
   "id": "a952e87b-4d11-487c-a669-ef5787f5b1af",
   "metadata": {},
   "outputs": [],
   "source": [
    "# Create your labels for each dataset, which would be the language\n",
    "y_train = X_train['lang'].copy()\n",
    "X_train.drop('lang', axis=1, inplace=True)\n",
    "\n",
    "y_test = X_test['lang'].copy()\n",
    "X_test.drop('lang', axis=1, inplace=True)"
   ]
  },
  {
   "cell_type": "code",
   "execution_count": null,
   "id": "9fd8134e-7093-43dd-a0e9-103fec3a8297",
   "metadata": {},
   "outputs": [],
   "source": []
  }
 ],
 "metadata": {
  "kernelspec": {
   "display_name": "Python 3 (ipykernel)",
   "language": "python",
   "name": "python3"
  },
  "language_info": {
   "codemirror_mode": {
    "name": "ipython",
    "version": 3
   },
   "file_extension": ".py",
   "mimetype": "text/x-python",
   "name": "python",
   "nbconvert_exporter": "python",
   "pygments_lexer": "ipython3",
   "version": "3.10.14"
  }
 },
 "nbformat": 4,
 "nbformat_minor": 5
}
