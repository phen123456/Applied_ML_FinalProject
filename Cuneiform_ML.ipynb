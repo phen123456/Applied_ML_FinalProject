{
 "cells": [
  {
   "cell_type": "code",
   "execution_count": 1,
   "id": "c77891e9-1231-48cb-89a1-e0e2f7c33343",
   "metadata": {},
   "outputs": [
    {
     "name": "stdout",
     "output_type": "stream",
     "text": [
      "Num GPUs Available: 1\n"
     ]
    }
   ],
   "source": [
    "#Check to see if gpu is available, should print 1\n",
    "import tensorflow as tf\n",
    "print(\"Num GPUs Available:\", len(tf.config.experimental.list_physical_devices('GPU')))"
   ]
  },
  {
   "cell_type": "code",
   "execution_count": 2,
   "id": "a316792a-f712-4ec6-b371-66012f2e32e6",
   "metadata": {},
   "outputs": [],
   "source": [
    "import pandas as pd\n",
    "import numpy as np\n",
    "\n",
    "from sklearn.preprocessing import OneHotEncoder\n",
    "from sklearn.model_selection import train_test_split\n",
    "from matplotlib import pyplot as plt\n",
    "from sklearn.metrics import confusion_matrix, ConfusionMatrixDisplay\n",
    "from tensorflow.keras.models import Sequential\n",
    "from tensorflow.keras.layers import Conv2D, MaxPooling2D, Dense, Flatten, Dropout, LeakyReLU\n",
    "from tensorflow.keras.utils import to_categorical"
   ]
  },
  {
   "cell_type": "code",
   "execution_count": 3,
   "id": "63b818e3-81f0-4ae5-9d2c-08dc799de5c3",
   "metadata": {},
   "outputs": [
    {
     "data": {
      "text/html": [
       "<div>\n",
       "<style scoped>\n",
       "    .dataframe tbody tr th:only-of-type {\n",
       "        vertical-align: middle;\n",
       "    }\n",
       "\n",
       "    .dataframe tbody tr th {\n",
       "        vertical-align: top;\n",
       "    }\n",
       "\n",
       "    .dataframe thead th {\n",
       "        text-align: right;\n",
       "    }\n",
       "</style>\n",
       "<table border=\"1\" class=\"dataframe\">\n",
       "  <thead>\n",
       "    <tr style=\"text-align: right;\">\n",
       "      <th></th>\n",
       "      <th>cuneiform</th>\n",
       "      <th>lang</th>\n",
       "    </tr>\n",
       "  </thead>\n",
       "  <tbody>\n",
       "    <tr>\n",
       "      <th>8055</th>\n",
       "      <td>𒌦𒋡</td>\n",
       "      <td>LTB</td>\n",
       "    </tr>\n",
       "    <tr>\n",
       "      <th>47759</th>\n",
       "      <td>𒉽𒊹𒈨𒊹𒁾𒈨𒌍</td>\n",
       "      <td>NEA</td>\n",
       "    </tr>\n",
       "    <tr>\n",
       "      <th>52276</th>\n",
       "      <td>𒄵𒋾𒀀𒃮𒉿𒅀𒌨𒋫𒁉𒅟</td>\n",
       "      <td>NEA</td>\n",
       "    </tr>\n",
       "    <tr>\n",
       "      <th>99902</th>\n",
       "      <td>𒃻𒆸𒊏</td>\n",
       "      <td>SUX</td>\n",
       "    </tr>\n",
       "    <tr>\n",
       "      <th>127887</th>\n",
       "      <td>𒋢</td>\n",
       "      <td>SUX</td>\n",
       "    </tr>\n",
       "    <tr>\n",
       "      <th>28087</th>\n",
       "      <td>𒉿𒅋𒆠𒋙𒉡</td>\n",
       "      <td>NEA</td>\n",
       "    </tr>\n",
       "    <tr>\n",
       "      <th>2516</th>\n",
       "      <td>𒀀𒃻𒁹𒈬𒀭𒀫𒌓</td>\n",
       "      <td>LTB</td>\n",
       "    </tr>\n",
       "    <tr>\n",
       "      <th>63730</th>\n",
       "      <td>𒅆𒌈</td>\n",
       "      <td>NEB</td>\n",
       "    </tr>\n",
       "    <tr>\n",
       "      <th>83094</th>\n",
       "      <td>𒊹𒊹𒌑</td>\n",
       "      <td>STB</td>\n",
       "    </tr>\n",
       "    <tr>\n",
       "      <th>79058</th>\n",
       "      <td>𒌑𒋛𒄿𒄩𒌑𒁀𒊑𒋥𒉌𒌓𒈬𒍝𒀸𒋢</td>\n",
       "      <td>STB</td>\n",
       "    </tr>\n",
       "  </tbody>\n",
       "</table>\n",
       "</div>"
      ],
      "text/plain": [
       "             cuneiform lang\n",
       "8055                𒌦𒋡  LTB\n",
       "47759          𒉽𒊹𒈨𒊹𒁾𒈨𒌍  NEA\n",
       "52276       𒄵𒋾𒀀𒃮𒉿𒅀𒌨𒋫𒁉𒅟  NEA\n",
       "99902              𒃻𒆸𒊏  SUX\n",
       "127887               𒋢  SUX\n",
       "28087            𒉿𒅋𒆠𒋙𒉡  NEA\n",
       "2516           𒀀𒃻𒁹𒈬𒀭𒀫𒌓  LTB\n",
       "63730               𒅆𒌈  NEB\n",
       "83094              𒊹𒊹𒌑  STB\n",
       "79058   𒌑𒋛𒄿𒄩𒌑𒁀𒊑𒋥𒉌𒌓𒈬𒍝𒀸𒋢  STB"
      ]
     },
     "execution_count": 3,
     "metadata": {},
     "output_type": "execute_result"
    }
   ],
   "source": [
    "df = pd.read_csv(\"train.csv\")\n",
    "df.sample(10).head(10)"
   ]
  },
  {
   "cell_type": "code",
   "execution_count": 4,
   "id": "43e9f530-4f91-4b92-9d94-f152029483cc",
   "metadata": {},
   "outputs": [
    {
     "data": {
      "text/html": [
       "<div>\n",
       "<style scoped>\n",
       "    .dataframe tbody tr th:only-of-type {\n",
       "        vertical-align: middle;\n",
       "    }\n",
       "\n",
       "    .dataframe tbody tr th {\n",
       "        vertical-align: top;\n",
       "    }\n",
       "\n",
       "    .dataframe thead th {\n",
       "        text-align: right;\n",
       "    }\n",
       "</style>\n",
       "<table border=\"1\" class=\"dataframe\">\n",
       "  <thead>\n",
       "    <tr style=\"text-align: right;\">\n",
       "      <th></th>\n",
       "      <th>cuneiform</th>\n",
       "      <th>lang</th>\n",
       "    </tr>\n",
       "  </thead>\n",
       "  <tbody>\n",
       "    <tr>\n",
       "      <th>139411</th>\n",
       "      <td>𒄑𒀳𒋗𒌌</td>\n",
       "      <td>SUX</td>\n",
       "    </tr>\n",
       "    <tr>\n",
       "      <th>139412</th>\n",
       "      <td>𒄑𒀳𒋗𒉡𒌌</td>\n",
       "      <td>SUX</td>\n",
       "    </tr>\n",
       "    <tr>\n",
       "      <th>139413</th>\n",
       "      <td>𒄑𒀳𒄭𒆥</td>\n",
       "      <td>SUX</td>\n",
       "    </tr>\n",
       "    <tr>\n",
       "      <th>139414</th>\n",
       "      <td>𒄑𒀳𒀠𒍣𒊏</td>\n",
       "      <td>SUX</td>\n",
       "    </tr>\n",
       "    <tr>\n",
       "      <th>139415</th>\n",
       "      <td>𒄑𒀳𒋗</td>\n",
       "      <td>SUX</td>\n",
       "    </tr>\n",
       "    <tr>\n",
       "      <th>139416</th>\n",
       "      <td>𒄑𒀳𒋗𒌌</td>\n",
       "      <td>SUX</td>\n",
       "    </tr>\n",
       "    <tr>\n",
       "      <th>139417</th>\n",
       "      <td>𒄑𒀳𒋗𒉡𒌌</td>\n",
       "      <td>SUX</td>\n",
       "    </tr>\n",
       "    <tr>\n",
       "      <th>139418</th>\n",
       "      <td>𒄑𒀳𒄭𒆥</td>\n",
       "      <td>SUX</td>\n",
       "    </tr>\n",
       "    <tr>\n",
       "      <th>139419</th>\n",
       "      <td>𒄑𒀳𒀠𒍣𒊏</td>\n",
       "      <td>SUX</td>\n",
       "    </tr>\n",
       "    <tr>\n",
       "      <th>139420</th>\n",
       "      <td>𒄑𒀳𒋗</td>\n",
       "      <td>SUX</td>\n",
       "    </tr>\n",
       "  </tbody>\n",
       "</table>\n",
       "</div>"
      ],
      "text/plain": [
       "       cuneiform lang\n",
       "139411      𒄑𒀳𒋗𒌌  SUX\n",
       "139412     𒄑𒀳𒋗𒉡𒌌  SUX\n",
       "139413      𒄑𒀳𒄭𒆥  SUX\n",
       "139414     𒄑𒀳𒀠𒍣𒊏  SUX\n",
       "139415       𒄑𒀳𒋗  SUX\n",
       "139416      𒄑𒀳𒋗𒌌  SUX\n",
       "139417     𒄑𒀳𒋗𒉡𒌌  SUX\n",
       "139418      𒄑𒀳𒄭𒆥  SUX\n",
       "139419     𒄑𒀳𒀠𒍣𒊏  SUX\n",
       "139420       𒄑𒀳𒋗  SUX"
      ]
     },
     "execution_count": 4,
     "metadata": {},
     "output_type": "execute_result"
    }
   ],
   "source": [
    "df.tail(10)"
   ]
  },
  {
   "cell_type": "code",
   "execution_count": 5,
   "id": "e0ff5e88-ae98-4b24-b9b7-44c031d8ade9",
   "metadata": {},
   "outputs": [
    {
     "name": "stdout",
     "output_type": "stream",
     "text": [
      "<class 'pandas.core.frame.DataFrame'>\n",
      "RangeIndex: 139421 entries, 0 to 139420\n",
      "Data columns (total 2 columns):\n",
      " #   Column     Non-Null Count   Dtype \n",
      "---  ------     --------------   ----- \n",
      " 0   cuneiform  139421 non-null  object\n",
      " 1   lang       139421 non-null  object\n",
      "dtypes: object(2)\n",
      "memory usage: 2.1+ MB\n"
     ]
    }
   ],
   "source": [
    "df.info()"
   ]
  },
  {
   "cell_type": "code",
   "execution_count": 6,
   "id": "f037a8db-bf52-43b3-a447-d0d6f51028a2",
   "metadata": {},
   "outputs": [
    {
     "data": {
      "text/plain": [
       "lang\n",
       "SUX    53673\n",
       "NEA    32966\n",
       "STB    17817\n",
       "LTB    15947\n",
       "NEB     9707\n",
       "MPB     5508\n",
       "OLB     3803\n",
       "Name: count, dtype: int64"
      ]
     },
     "execution_count": 6,
     "metadata": {},
     "output_type": "execute_result"
    }
   ],
   "source": [
    "df.lang.value_counts()"
   ]
  },
  {
   "cell_type": "code",
   "execution_count": 7,
   "id": "4a9ae0d0-c37e-4f9e-9cb5-7b11cb974cc9",
   "metadata": {},
   "outputs": [
    {
     "data": {
      "text/html": [
       "<div>\n",
       "<style scoped>\n",
       "    .dataframe tbody tr th:only-of-type {\n",
       "        vertical-align: middle;\n",
       "    }\n",
       "\n",
       "    .dataframe tbody tr th {\n",
       "        vertical-align: top;\n",
       "    }\n",
       "\n",
       "    .dataframe thead th {\n",
       "        text-align: right;\n",
       "    }\n",
       "</style>\n",
       "<table border=\"1\" class=\"dataframe\">\n",
       "  <thead>\n",
       "    <tr style=\"text-align: right;\">\n",
       "      <th></th>\n",
       "      <th>cuneiform</th>\n",
       "      <th>lang</th>\n",
       "      <th>enc_lang</th>\n",
       "    </tr>\n",
       "  </thead>\n",
       "  <tbody>\n",
       "    <tr>\n",
       "      <th>37179</th>\n",
       "      <td>𒀀𒈾𒈗𒂗𒀀</td>\n",
       "      <td>NEA</td>\n",
       "      <td>1</td>\n",
       "    </tr>\n",
       "    <tr>\n",
       "      <th>85020</th>\n",
       "      <td>𒀭𒌈𒇺𒅆</td>\n",
       "      <td>STB</td>\n",
       "      <td>2</td>\n",
       "    </tr>\n",
       "    <tr>\n",
       "      <th>120765</th>\n",
       "      <td>𒃲𒆕</td>\n",
       "      <td>SUX</td>\n",
       "      <td>0</td>\n",
       "    </tr>\n",
       "    <tr>\n",
       "      <th>114338</th>\n",
       "      <td>𒂁𒌋𒃶𒋢𒋛𒂵</td>\n",
       "      <td>SUX</td>\n",
       "      <td>0</td>\n",
       "    </tr>\n",
       "    <tr>\n",
       "      <th>27357</th>\n",
       "      <td>𒀴𒅟𒊹𒄭𒅎𒀸𒋩</td>\n",
       "      <td>NEA</td>\n",
       "      <td>1</td>\n",
       "    </tr>\n",
       "    <tr>\n",
       "      <th>21334</th>\n",
       "      <td>𒆠𒈾𒀭𒈾𒁄𒄩𒆪𒃻𒉌𒌓</td>\n",
       "      <td>MPB</td>\n",
       "      <td>5</td>\n",
       "    </tr>\n",
       "    <tr>\n",
       "      <th>99329</th>\n",
       "      <td>𒈬𒁯𒆠</td>\n",
       "      <td>SUX</td>\n",
       "      <td>0</td>\n",
       "    </tr>\n",
       "    <tr>\n",
       "      <th>23435</th>\n",
       "      <td>𒀀𒈾𒈬𒄭𒅟𒅇𒄿𒁲</td>\n",
       "      <td>MPB</td>\n",
       "      <td>5</td>\n",
       "    </tr>\n",
       "    <tr>\n",
       "      <th>6656</th>\n",
       "      <td>𒊹</td>\n",
       "      <td>LTB</td>\n",
       "      <td>3</td>\n",
       "    </tr>\n",
       "    <tr>\n",
       "      <th>96357</th>\n",
       "      <td>𒋛𒄞</td>\n",
       "      <td>SUX</td>\n",
       "      <td>0</td>\n",
       "    </tr>\n",
       "  </tbody>\n",
       "</table>\n",
       "</div>"
      ],
      "text/plain": [
       "         cuneiform lang  enc_lang\n",
       "37179        𒀀𒈾𒈗𒂗𒀀  NEA         1\n",
       "85020         𒀭𒌈𒇺𒅆  STB         2\n",
       "120765          𒃲𒆕  SUX         0\n",
       "114338      𒂁𒌋𒃶𒋢𒋛𒂵  SUX         0\n",
       "27357      𒀴𒅟𒊹𒄭𒅎𒀸𒋩  NEA         1\n",
       "21334   𒆠𒈾𒀭𒈾𒁄𒄩𒆪𒃻𒉌𒌓  MPB         5\n",
       "99329          𒈬𒁯𒆠  SUX         0\n",
       "23435     𒀀𒈾𒈬𒄭𒅟𒅇𒄿𒁲  MPB         5\n",
       "6656             𒊹  LTB         3\n",
       "96357           𒋛𒄞  SUX         0"
      ]
     },
     "execution_count": 7,
     "metadata": {},
     "output_type": "execute_result"
    }
   ],
   "source": [
    "#Describe, 7 Different languages, 3223 samples are just the black circle, which is cuneiform for 3,600 or many or totality or world\n",
    "#Cuneiform uses a 6 based numbering system, so 3,600 is 60*60 and not an arbitrary number or a dataset mistake\n",
    "\n",
    "#No one hot encoding is needed, however, label is needed to be converted to integer value\n",
    "#custom map to easily convert back at end\n",
    "label_map = {'SUX': 0, 'NEA': 1, 'STB': 2, 'LTB': 3, 'NEB': 4, 'MPB': 5, 'OLB': 6}\n",
    "df['enc_lang'] = df['lang'].map(label_map)\n",
    "#ensure correct\n",
    "df.sample(10).head(10)"
   ]
  },
  {
   "cell_type": "code",
   "execution_count": 8,
   "id": "b4769eff-6d4e-4367-aae5-f9f27df255f7",
   "metadata": {},
   "outputs": [],
   "source": [
    "#need to seperate up cuneiform into vectors, then one hot encode those vectors for each symbol\n",
    "#function to decode on unicode\n",
    "def split_on_unicode(cuneiform):\n",
    "    return [*cuneiform] #splits cuneiform text into individual characters\n",
    "\n",
    "#for each sample, split on each character and create a new feature\n",
    "df['sep_cuneiform'] = df['cuneiform'].apply(split_on_unicode)"
   ]
  },
  {
   "cell_type": "code",
   "execution_count": 9,
   "id": "c4df8fef-e9b9-4f7d-87f7-61575175f3ce",
   "metadata": {},
   "outputs": [
    {
     "data": {
      "text/html": [
       "<div>\n",
       "<style scoped>\n",
       "    .dataframe tbody tr th:only-of-type {\n",
       "        vertical-align: middle;\n",
       "    }\n",
       "\n",
       "    .dataframe tbody tr th {\n",
       "        vertical-align: top;\n",
       "    }\n",
       "\n",
       "    .dataframe thead th {\n",
       "        text-align: right;\n",
       "    }\n",
       "</style>\n",
       "<table border=\"1\" class=\"dataframe\">\n",
       "  <thead>\n",
       "    <tr style=\"text-align: right;\">\n",
       "      <th></th>\n",
       "      <th>cuneiform</th>\n",
       "      <th>lang</th>\n",
       "      <th>enc_lang</th>\n",
       "      <th>sep_cuneiform</th>\n",
       "    </tr>\n",
       "  </thead>\n",
       "  <tbody>\n",
       "    <tr>\n",
       "      <th>69061</th>\n",
       "      <td>𒈠𒊑𒈬𒌁𒄀𒅖𒇷𒀀𒁉𒋙𒃰𒌇𒌋𒌋𒉡𒄿𒇴𒆳</td>\n",
       "      <td>STB</td>\n",
       "      <td>2</td>\n",
       "      <td>[𒈠, 𒊑, 𒈬, 𒌁, 𒄀, 𒅖, 𒇷, 𒀀, 𒁉, 𒋙, 𒃰, 𒌇, 𒌋, 𒌋, 𒉡, ...</td>\n",
       "    </tr>\n",
       "    <tr>\n",
       "      <th>130574</th>\n",
       "      <td>𒆷</td>\n",
       "      <td>SUX</td>\n",
       "      <td>0</td>\n",
       "      <td>[𒆷]</td>\n",
       "    </tr>\n",
       "  </tbody>\n",
       "</table>\n",
       "</div>"
      ],
      "text/plain": [
       "                 cuneiform lang  enc_lang  \\\n",
       "69061   𒈠𒊑𒈬𒌁𒄀𒅖𒇷𒀀𒁉𒋙𒃰𒌇𒌋𒌋𒉡𒄿𒇴𒆳  STB         2   \n",
       "130574                   𒆷  SUX         0   \n",
       "\n",
       "                                            sep_cuneiform  \n",
       "69061   [𒈠, 𒊑, 𒈬, 𒌁, 𒄀, 𒅖, 𒇷, 𒀀, 𒁉, 𒋙, 𒃰, 𒌇, 𒌋, 𒌋, 𒉡, ...  \n",
       "130574                                                [𒆷]  "
      ]
     },
     "execution_count": 9,
     "metadata": {},
     "output_type": "execute_result"
    }
   ],
   "source": [
    "df.sample(2).head(2)"
   ]
  },
  {
   "cell_type": "code",
   "execution_count": 10,
   "id": "09569444-ecef-4cae-9616-91d4bbf059e5",
   "metadata": {},
   "outputs": [],
   "source": [
    "#get unique cuneiform symbols, one hot encode\n",
    "unique_cuneiform = set()\n",
    "for sublist in df['sep_cuneiform']:\n",
    "    for char in sublist:\n",
    "        unique_cuneiform.add(char)\n",
    "        \n",
    "unique_cuneiform_list = list(unique_cuneiform)\n",
    "uniq_cuneiform_df = pd.DataFrame(0, index=df.index, columns=unique_cuneiform_list)\n",
    "\n",
    "for index, row in df.iterrows(): #iterate through each row in dataframe\n",
    "    for char in row['sep_cuneiform']: #iterate through sep_cuneiform array\n",
    "        uniq_cuneiform_df.at[index, char] += 1 #update intersection, add one to the uniq cuneiform df at the right spot\n",
    "        #change above to = 1 if running into issues\n",
    "\n",
    "df = pd.concat([df, uniq_cuneiform_df], axis=1)"
   ]
  },
  {
   "cell_type": "code",
   "execution_count": 11,
   "id": "86ce183b-ed3c-4e19-bf7c-14cb0c214ec4",
   "metadata": {},
   "outputs": [
    {
     "data": {
      "text/html": [
       "<div>\n",
       "<style scoped>\n",
       "    .dataframe tbody tr th:only-of-type {\n",
       "        vertical-align: middle;\n",
       "    }\n",
       "\n",
       "    .dataframe tbody tr th {\n",
       "        vertical-align: top;\n",
       "    }\n",
       "\n",
       "    .dataframe thead th {\n",
       "        text-align: right;\n",
       "    }\n",
       "</style>\n",
       "<table border=\"1\" class=\"dataframe\">\n",
       "  <thead>\n",
       "    <tr style=\"text-align: right;\">\n",
       "      <th></th>\n",
       "      <th>cuneiform</th>\n",
       "      <th>lang</th>\n",
       "      <th>enc_lang</th>\n",
       "      <th>sep_cuneiform</th>\n",
       "      <th>𒄻</th>\n",
       "      <th>𒅿</th>\n",
       "      <th>𒑑</th>\n",
       "      <th>𒀎</th>\n",
       "      <th>𒋾</th>\n",
       "      <th>𒂅</th>\n",
       "      <th>...</th>\n",
       "      <th>𒄒</th>\n",
       "      <th>𒆗</th>\n",
       "      <th>𒉓</th>\n",
       "      <th>𒂯</th>\n",
       "      <th>𒊷</th>\n",
       "      <th>𒆑</th>\n",
       "      <th>𒅕</th>\n",
       "      <th>𒋰</th>\n",
       "      <th>𒉣</th>\n",
       "      <th>𒋫</th>\n",
       "    </tr>\n",
       "  </thead>\n",
       "  <tbody>\n",
       "    <tr>\n",
       "      <th>128407</th>\n",
       "      <td>𒊺𒉪𒊏</td>\n",
       "      <td>SUX</td>\n",
       "      <td>0</td>\n",
       "      <td>[𒊺, 𒉪, 𒊏]</td>\n",
       "      <td>0</td>\n",
       "      <td>0</td>\n",
       "      <td>0</td>\n",
       "      <td>0</td>\n",
       "      <td>0</td>\n",
       "      <td>0</td>\n",
       "      <td>...</td>\n",
       "      <td>0</td>\n",
       "      <td>0</td>\n",
       "      <td>0</td>\n",
       "      <td>0</td>\n",
       "      <td>0</td>\n",
       "      <td>0</td>\n",
       "      <td>0</td>\n",
       "      <td>0</td>\n",
       "      <td>0</td>\n",
       "      <td>0</td>\n",
       "    </tr>\n",
       "    <tr>\n",
       "      <th>21882</th>\n",
       "      <td>𒂗𒅀𒅖𒆪𒈾𒀭𒉌</td>\n",
       "      <td>MPB</td>\n",
       "      <td>5</td>\n",
       "      <td>[𒂗, 𒅀, 𒅖, 𒆪, 𒈾, 𒀭, 𒉌]</td>\n",
       "      <td>0</td>\n",
       "      <td>0</td>\n",
       "      <td>0</td>\n",
       "      <td>0</td>\n",
       "      <td>0</td>\n",
       "      <td>0</td>\n",
       "      <td>...</td>\n",
       "      <td>0</td>\n",
       "      <td>0</td>\n",
       "      <td>0</td>\n",
       "      <td>0</td>\n",
       "      <td>0</td>\n",
       "      <td>0</td>\n",
       "      <td>0</td>\n",
       "      <td>0</td>\n",
       "      <td>0</td>\n",
       "      <td>0</td>\n",
       "    </tr>\n",
       "    <tr>\n",
       "      <th>44778</th>\n",
       "      <td>𒉌𒌓𒈩𒊹𒀀𒊹𒌗𒉈𒀀𒀀</td>\n",
       "      <td>NEA</td>\n",
       "      <td>1</td>\n",
       "      <td>[𒉌, 𒌓, 𒈩, 𒊹, 𒀀, 𒊹, 𒌗, 𒉈, 𒀀, 𒀀]</td>\n",
       "      <td>0</td>\n",
       "      <td>0</td>\n",
       "      <td>0</td>\n",
       "      <td>0</td>\n",
       "      <td>0</td>\n",
       "      <td>0</td>\n",
       "      <td>...</td>\n",
       "      <td>0</td>\n",
       "      <td>0</td>\n",
       "      <td>0</td>\n",
       "      <td>0</td>\n",
       "      <td>0</td>\n",
       "      <td>0</td>\n",
       "      <td>0</td>\n",
       "      <td>0</td>\n",
       "      <td>0</td>\n",
       "      <td>0</td>\n",
       "    </tr>\n",
       "    <tr>\n",
       "      <th>103252</th>\n",
       "      <td>𒈾𒊑𒂵</td>\n",
       "      <td>SUX</td>\n",
       "      <td>0</td>\n",
       "      <td>[𒈾, 𒊑, 𒂵]</td>\n",
       "      <td>0</td>\n",
       "      <td>0</td>\n",
       "      <td>0</td>\n",
       "      <td>0</td>\n",
       "      <td>0</td>\n",
       "      <td>0</td>\n",
       "      <td>...</td>\n",
       "      <td>0</td>\n",
       "      <td>0</td>\n",
       "      <td>0</td>\n",
       "      <td>0</td>\n",
       "      <td>0</td>\n",
       "      <td>0</td>\n",
       "      <td>0</td>\n",
       "      <td>0</td>\n",
       "      <td>0</td>\n",
       "      <td>0</td>\n",
       "    </tr>\n",
       "    <tr>\n",
       "      <th>63607</th>\n",
       "      <td>𒀀𒈾𒊹𒀭𒀝𒈗𒌑𒀫𒇽𒃲𒈬𒄀𒀀𒈾𒆳𒈬𒊻𒊑𒄿𒉺𒅁𒌓𒌑𒈠</td>\n",
       "      <td>NEB</td>\n",
       "      <td>4</td>\n",
       "      <td>[𒀀, 𒈾, 𒊹, 𒀭, 𒀝, 𒈗, 𒌑, 𒀫, 𒇽, 𒃲, 𒈬, 𒄀, 𒀀, 𒈾, 𒆳, ...</td>\n",
       "      <td>0</td>\n",
       "      <td>0</td>\n",
       "      <td>0</td>\n",
       "      <td>0</td>\n",
       "      <td>0</td>\n",
       "      <td>0</td>\n",
       "      <td>...</td>\n",
       "      <td>0</td>\n",
       "      <td>0</td>\n",
       "      <td>0</td>\n",
       "      <td>0</td>\n",
       "      <td>0</td>\n",
       "      <td>0</td>\n",
       "      <td>0</td>\n",
       "      <td>0</td>\n",
       "      <td>0</td>\n",
       "      <td>0</td>\n",
       "    </tr>\n",
       "  </tbody>\n",
       "</table>\n",
       "<p>5 rows × 554 columns</p>\n",
       "</div>"
      ],
      "text/plain": [
       "                       cuneiform lang  enc_lang  \\\n",
       "128407                       𒊺𒉪𒊏  SUX         0   \n",
       "21882                    𒂗𒅀𒅖𒆪𒈾𒀭𒉌  MPB         5   \n",
       "44778                 𒉌𒌓𒈩𒊹𒀀𒊹𒌗𒉈𒀀𒀀  NEA         1   \n",
       "103252                       𒈾𒊑𒂵  SUX         0   \n",
       "63607   𒀀𒈾𒊹𒀭𒀝𒈗𒌑𒀫𒇽𒃲𒈬𒄀𒀀𒈾𒆳𒈬𒊻𒊑𒄿𒉺𒅁𒌓𒌑𒈠  NEB         4   \n",
       "\n",
       "                                            sep_cuneiform  𒄻  𒅿  𒑑  𒀎  𒋾  𒂅  \\\n",
       "128407                                          [𒊺, 𒉪, 𒊏]  0  0  0  0  0  0   \n",
       "21882                               [𒂗, 𒅀, 𒅖, 𒆪, 𒈾, 𒀭, 𒉌]  0  0  0  0  0  0   \n",
       "44778                      [𒉌, 𒌓, 𒈩, 𒊹, 𒀀, 𒊹, 𒌗, 𒉈, 𒀀, 𒀀]  0  0  0  0  0  0   \n",
       "103252                                          [𒈾, 𒊑, 𒂵]  0  0  0  0  0  0   \n",
       "63607   [𒀀, 𒈾, 𒊹, 𒀭, 𒀝, 𒈗, 𒌑, 𒀫, 𒇽, 𒃲, 𒈬, 𒄀, 𒀀, 𒈾, 𒆳, ...  0  0  0  0  0  0   \n",
       "\n",
       "        ...  𒄒  𒆗  𒉓  𒂯  𒊷  𒆑  𒅕  𒋰  𒉣  𒋫  \n",
       "128407  ...  0  0  0  0  0  0  0  0  0  0  \n",
       "21882   ...  0  0  0  0  0  0  0  0  0  0  \n",
       "44778   ...  0  0  0  0  0  0  0  0  0  0  \n",
       "103252  ...  0  0  0  0  0  0  0  0  0  0  \n",
       "63607   ...  0  0  0  0  0  0  0  0  0  0  \n",
       "\n",
       "[5 rows x 554 columns]"
      ]
     },
     "execution_count": 11,
     "metadata": {},
     "output_type": "execute_result"
    }
   ],
   "source": [
    "df.sample(5).head(5)"
   ]
  },
  {
   "cell_type": "code",
   "execution_count": 12,
   "id": "910a3763-38f8-4d91-89b5-5701c93b3baa",
   "metadata": {},
   "outputs": [
    {
     "data": {
      "text/html": [
       "<div>\n",
       "<style scoped>\n",
       "    .dataframe tbody tr th:only-of-type {\n",
       "        vertical-align: middle;\n",
       "    }\n",
       "\n",
       "    .dataframe tbody tr th {\n",
       "        vertical-align: top;\n",
       "    }\n",
       "\n",
       "    .dataframe thead th {\n",
       "        text-align: right;\n",
       "    }\n",
       "</style>\n",
       "<table border=\"1\" class=\"dataframe\">\n",
       "  <thead>\n",
       "    <tr style=\"text-align: right;\">\n",
       "      <th></th>\n",
       "      <th>enc_lang</th>\n",
       "      <th>𒄻</th>\n",
       "      <th>𒅿</th>\n",
       "      <th>𒑑</th>\n",
       "      <th>𒀎</th>\n",
       "      <th>𒋾</th>\n",
       "      <th>𒂅</th>\n",
       "      <th>𒇺</th>\n",
       "      <th>𒆥</th>\n",
       "      <th>𒑐</th>\n",
       "      <th>...</th>\n",
       "      <th>𒄒</th>\n",
       "      <th>𒆗</th>\n",
       "      <th>𒉓</th>\n",
       "      <th>𒂯</th>\n",
       "      <th>𒊷</th>\n",
       "      <th>𒆑</th>\n",
       "      <th>𒅕</th>\n",
       "      <th>𒋰</th>\n",
       "      <th>𒉣</th>\n",
       "      <th>𒋫</th>\n",
       "    </tr>\n",
       "  </thead>\n",
       "  <tbody>\n",
       "    <tr>\n",
       "      <th>73591</th>\n",
       "      <td>2</td>\n",
       "      <td>0</td>\n",
       "      <td>0</td>\n",
       "      <td>0</td>\n",
       "      <td>0</td>\n",
       "      <td>0</td>\n",
       "      <td>0</td>\n",
       "      <td>0</td>\n",
       "      <td>0</td>\n",
       "      <td>0</td>\n",
       "      <td>...</td>\n",
       "      <td>0</td>\n",
       "      <td>0</td>\n",
       "      <td>0</td>\n",
       "      <td>0</td>\n",
       "      <td>0</td>\n",
       "      <td>0</td>\n",
       "      <td>0</td>\n",
       "      <td>0</td>\n",
       "      <td>0</td>\n",
       "      <td>0</td>\n",
       "    </tr>\n",
       "    <tr>\n",
       "      <th>114150</th>\n",
       "      <td>0</td>\n",
       "      <td>0</td>\n",
       "      <td>0</td>\n",
       "      <td>0</td>\n",
       "      <td>0</td>\n",
       "      <td>0</td>\n",
       "      <td>0</td>\n",
       "      <td>0</td>\n",
       "      <td>0</td>\n",
       "      <td>0</td>\n",
       "      <td>...</td>\n",
       "      <td>0</td>\n",
       "      <td>0</td>\n",
       "      <td>0</td>\n",
       "      <td>0</td>\n",
       "      <td>0</td>\n",
       "      <td>0</td>\n",
       "      <td>0</td>\n",
       "      <td>0</td>\n",
       "      <td>0</td>\n",
       "      <td>0</td>\n",
       "    </tr>\n",
       "    <tr>\n",
       "      <th>3228</th>\n",
       "      <td>3</td>\n",
       "      <td>0</td>\n",
       "      <td>0</td>\n",
       "      <td>0</td>\n",
       "      <td>0</td>\n",
       "      <td>0</td>\n",
       "      <td>0</td>\n",
       "      <td>0</td>\n",
       "      <td>0</td>\n",
       "      <td>0</td>\n",
       "      <td>...</td>\n",
       "      <td>0</td>\n",
       "      <td>0</td>\n",
       "      <td>0</td>\n",
       "      <td>0</td>\n",
       "      <td>0</td>\n",
       "      <td>0</td>\n",
       "      <td>0</td>\n",
       "      <td>0</td>\n",
       "      <td>0</td>\n",
       "      <td>0</td>\n",
       "    </tr>\n",
       "    <tr>\n",
       "      <th>110783</th>\n",
       "      <td>0</td>\n",
       "      <td>0</td>\n",
       "      <td>0</td>\n",
       "      <td>0</td>\n",
       "      <td>0</td>\n",
       "      <td>0</td>\n",
       "      <td>0</td>\n",
       "      <td>0</td>\n",
       "      <td>0</td>\n",
       "      <td>0</td>\n",
       "      <td>...</td>\n",
       "      <td>0</td>\n",
       "      <td>0</td>\n",
       "      <td>0</td>\n",
       "      <td>0</td>\n",
       "      <td>0</td>\n",
       "      <td>0</td>\n",
       "      <td>0</td>\n",
       "      <td>0</td>\n",
       "      <td>0</td>\n",
       "      <td>0</td>\n",
       "    </tr>\n",
       "    <tr>\n",
       "      <th>96229</th>\n",
       "      <td>0</td>\n",
       "      <td>0</td>\n",
       "      <td>0</td>\n",
       "      <td>0</td>\n",
       "      <td>0</td>\n",
       "      <td>0</td>\n",
       "      <td>0</td>\n",
       "      <td>0</td>\n",
       "      <td>0</td>\n",
       "      <td>0</td>\n",
       "      <td>...</td>\n",
       "      <td>0</td>\n",
       "      <td>0</td>\n",
       "      <td>0</td>\n",
       "      <td>0</td>\n",
       "      <td>0</td>\n",
       "      <td>0</td>\n",
       "      <td>0</td>\n",
       "      <td>0</td>\n",
       "      <td>0</td>\n",
       "      <td>0</td>\n",
       "    </tr>\n",
       "  </tbody>\n",
       "</table>\n",
       "<p>5 rows × 551 columns</p>\n",
       "</div>"
      ],
      "text/plain": [
       "        enc_lang  𒄻  𒅿  𒑑  𒀎  𒋾  𒂅  𒇺  𒆥  𒑐  ...  𒄒  𒆗  𒉓  𒂯  𒊷  𒆑  𒅕  𒋰  𒉣  𒋫\n",
       "73591          2  0  0  0  0  0  0  0  0  0  ...  0  0  0  0  0  0  0  0  0  0\n",
       "114150         0  0  0  0  0  0  0  0  0  0  ...  0  0  0  0  0  0  0  0  0  0\n",
       "3228           3  0  0  0  0  0  0  0  0  0  ...  0  0  0  0  0  0  0  0  0  0\n",
       "110783         0  0  0  0  0  0  0  0  0  0  ...  0  0  0  0  0  0  0  0  0  0\n",
       "96229          0  0  0  0  0  0  0  0  0  0  ...  0  0  0  0  0  0  0  0  0  0\n",
       "\n",
       "[5 rows x 551 columns]"
      ]
     },
     "execution_count": 12,
     "metadata": {},
     "output_type": "execute_result"
    }
   ],
   "source": [
    "df.drop(['cuneiform', 'lang', 'sep_cuneiform'], axis=1, inplace=True)\n",
    "df.sample(5).head(5)"
   ]
  },
  {
   "cell_type": "code",
   "execution_count": 14,
   "id": "e660b6ab-4af4-4187-899d-d1c3c81f3673",
   "metadata": {},
   "outputs": [],
   "source": [
    "#Stratify and split, 80% train, 20% test\n",
    "X_train, test_1 = train_test_split(df,test_size=.4,stratify=df['enc_lang'])\n",
    "X_val, X_test = train_test_split(test_1,test_size=.5,stratify=test_1['enc_lang'])"
   ]
  },
  {
   "cell_type": "code",
   "execution_count": 15,
   "id": "fafac33d-5062-4711-9707-147f3c569879",
   "metadata": {},
   "outputs": [
    {
     "name": "stdout",
     "output_type": "stream",
     "text": [
      "X train shape - (83652, 551)\n",
      "X val shape - (27884, 551)\n",
      "X test shape - (27885, 551)\n"
     ]
    }
   ],
   "source": [
    "#Print sizes, only two labels, the cuneiform text and the language\n",
    "print(\"X train shape -\", X_train.shape)\n",
    "print(\"X val shape -\", X_val.shape)\n",
    "print(\"X test shape -\", X_test.shape)"
   ]
  },
  {
   "cell_type": "code",
   "execution_count": 16,
   "id": "159aab18-3663-4679-a1cc-c1267cc0cefd",
   "metadata": {},
   "outputs": [
    {
     "data": {
      "text/html": [
       "<div>\n",
       "<style scoped>\n",
       "    .dataframe tbody tr th:only-of-type {\n",
       "        vertical-align: middle;\n",
       "    }\n",
       "\n",
       "    .dataframe tbody tr th {\n",
       "        vertical-align: top;\n",
       "    }\n",
       "\n",
       "    .dataframe thead th {\n",
       "        text-align: right;\n",
       "    }\n",
       "</style>\n",
       "<table border=\"1\" class=\"dataframe\">\n",
       "  <thead>\n",
       "    <tr style=\"text-align: right;\">\n",
       "      <th></th>\n",
       "      <th>enc_lang</th>\n",
       "      <th>𒄻</th>\n",
       "      <th>𒅿</th>\n",
       "      <th>𒑑</th>\n",
       "      <th>𒀎</th>\n",
       "      <th>𒋾</th>\n",
       "      <th>𒂅</th>\n",
       "      <th>𒇺</th>\n",
       "      <th>𒆥</th>\n",
       "      <th>𒑐</th>\n",
       "      <th>...</th>\n",
       "      <th>𒄒</th>\n",
       "      <th>𒆗</th>\n",
       "      <th>𒉓</th>\n",
       "      <th>𒂯</th>\n",
       "      <th>𒊷</th>\n",
       "      <th>𒆑</th>\n",
       "      <th>𒅕</th>\n",
       "      <th>𒋰</th>\n",
       "      <th>𒉣</th>\n",
       "      <th>𒋫</th>\n",
       "    </tr>\n",
       "  </thead>\n",
       "  <tbody>\n",
       "    <tr>\n",
       "      <th>43665</th>\n",
       "      <td>1</td>\n",
       "      <td>0</td>\n",
       "      <td>0</td>\n",
       "      <td>0</td>\n",
       "      <td>0</td>\n",
       "      <td>0</td>\n",
       "      <td>0</td>\n",
       "      <td>0</td>\n",
       "      <td>0</td>\n",
       "      <td>0</td>\n",
       "      <td>...</td>\n",
       "      <td>0</td>\n",
       "      <td>0</td>\n",
       "      <td>0</td>\n",
       "      <td>0</td>\n",
       "      <td>0</td>\n",
       "      <td>0</td>\n",
       "      <td>0</td>\n",
       "      <td>0</td>\n",
       "      <td>0</td>\n",
       "      <td>0</td>\n",
       "    </tr>\n",
       "    <tr>\n",
       "      <th>90277</th>\n",
       "      <td>0</td>\n",
       "      <td>0</td>\n",
       "      <td>0</td>\n",
       "      <td>0</td>\n",
       "      <td>0</td>\n",
       "      <td>0</td>\n",
       "      <td>0</td>\n",
       "      <td>0</td>\n",
       "      <td>0</td>\n",
       "      <td>0</td>\n",
       "      <td>...</td>\n",
       "      <td>0</td>\n",
       "      <td>0</td>\n",
       "      <td>0</td>\n",
       "      <td>0</td>\n",
       "      <td>0</td>\n",
       "      <td>0</td>\n",
       "      <td>0</td>\n",
       "      <td>0</td>\n",
       "      <td>0</td>\n",
       "      <td>0</td>\n",
       "    </tr>\n",
       "    <tr>\n",
       "      <th>70198</th>\n",
       "      <td>2</td>\n",
       "      <td>0</td>\n",
       "      <td>0</td>\n",
       "      <td>0</td>\n",
       "      <td>0</td>\n",
       "      <td>0</td>\n",
       "      <td>0</td>\n",
       "      <td>0</td>\n",
       "      <td>0</td>\n",
       "      <td>0</td>\n",
       "      <td>...</td>\n",
       "      <td>0</td>\n",
       "      <td>0</td>\n",
       "      <td>0</td>\n",
       "      <td>0</td>\n",
       "      <td>0</td>\n",
       "      <td>0</td>\n",
       "      <td>0</td>\n",
       "      <td>0</td>\n",
       "      <td>0</td>\n",
       "      <td>0</td>\n",
       "    </tr>\n",
       "    <tr>\n",
       "      <th>36221</th>\n",
       "      <td>1</td>\n",
       "      <td>0</td>\n",
       "      <td>0</td>\n",
       "      <td>0</td>\n",
       "      <td>0</td>\n",
       "      <td>0</td>\n",
       "      <td>0</td>\n",
       "      <td>0</td>\n",
       "      <td>0</td>\n",
       "      <td>0</td>\n",
       "      <td>...</td>\n",
       "      <td>0</td>\n",
       "      <td>0</td>\n",
       "      <td>0</td>\n",
       "      <td>0</td>\n",
       "      <td>0</td>\n",
       "      <td>0</td>\n",
       "      <td>0</td>\n",
       "      <td>0</td>\n",
       "      <td>0</td>\n",
       "      <td>0</td>\n",
       "    </tr>\n",
       "    <tr>\n",
       "      <th>47109</th>\n",
       "      <td>1</td>\n",
       "      <td>0</td>\n",
       "      <td>0</td>\n",
       "      <td>0</td>\n",
       "      <td>0</td>\n",
       "      <td>0</td>\n",
       "      <td>0</td>\n",
       "      <td>0</td>\n",
       "      <td>0</td>\n",
       "      <td>0</td>\n",
       "      <td>...</td>\n",
       "      <td>0</td>\n",
       "      <td>0</td>\n",
       "      <td>0</td>\n",
       "      <td>0</td>\n",
       "      <td>0</td>\n",
       "      <td>0</td>\n",
       "      <td>0</td>\n",
       "      <td>0</td>\n",
       "      <td>0</td>\n",
       "      <td>0</td>\n",
       "    </tr>\n",
       "  </tbody>\n",
       "</table>\n",
       "<p>5 rows × 551 columns</p>\n",
       "</div>"
      ],
      "text/plain": [
       "       enc_lang  𒄻  𒅿  𒑑  𒀎  𒋾  𒂅  𒇺  𒆥  𒑐  ...  𒄒  𒆗  𒉓  𒂯  𒊷  𒆑  𒅕  𒋰  𒉣  𒋫\n",
       "43665         1  0  0  0  0  0  0  0  0  0  ...  0  0  0  0  0  0  0  0  0  0\n",
       "90277         0  0  0  0  0  0  0  0  0  0  ...  0  0  0  0  0  0  0  0  0  0\n",
       "70198         2  0  0  0  0  0  0  0  0  0  ...  0  0  0  0  0  0  0  0  0  0\n",
       "36221         1  0  0  0  0  0  0  0  0  0  ...  0  0  0  0  0  0  0  0  0  0\n",
       "47109         1  0  0  0  0  0  0  0  0  0  ...  0  0  0  0  0  0  0  0  0  0\n",
       "\n",
       "[5 rows x 551 columns]"
      ]
     },
     "execution_count": 16,
     "metadata": {},
     "output_type": "execute_result"
    }
   ],
   "source": [
    "X_train.head()\n",
    "#X_test.head()"
   ]
  },
  {
   "cell_type": "code",
   "execution_count": 17,
   "id": "a952e87b-4d11-487c-a669-ef5787f5b1af",
   "metadata": {},
   "outputs": [],
   "source": [
    "# Create your labels for each dataset, which would be the language\n",
    "y_train_pre = X_train['enc_lang'].copy()\n",
    "X_train.drop('enc_lang', axis=1, inplace=True)\n",
    "\n",
    "y_val_pre = X_val['enc_lang'].copy()\n",
    "X_val.drop('enc_lang', axis=1, inplace=True)\n",
    "\n",
    "y_test_pre = X_test['enc_lang'].copy()\n",
    "X_test.drop('enc_lang', axis=1, inplace=True)"
   ]
  },
  {
   "cell_type": "code",
   "execution_count": 18,
   "id": "e6fe063d-5ad7-4f0f-9816-5bb66a4c3667",
   "metadata": {},
   "outputs": [
    {
     "name": "stdout",
     "output_type": "stream",
     "text": [
      "        enc_lang  shape_0  shape_1  shape_2  shape_3  shape_4  shape_5  \\\n",
      "108079         0     True    False    False    False    False    False   \n",
      "58357          4    False    False    False    False     True    False   \n",
      "37931          1    False     True    False    False    False    False   \n",
      "63574          4    False    False    False    False     True    False   \n",
      "88451          0     True    False    False    False    False    False   \n",
      "82951          2    False    False     True    False    False    False   \n",
      "3593           3    False    False    False     True    False    False   \n",
      "64442          4    False    False    False    False     True    False   \n",
      "77829          2    False    False     True    False    False    False   \n",
      "30318          1    False     True    False    False    False    False   \n",
      "\n",
      "        shape_6  \n",
      "108079    False  \n",
      "58357     False  \n",
      "37931     False  \n",
      "63574     False  \n",
      "88451     False  \n",
      "82951     False  \n",
      "3593      False  \n",
      "64442     False  \n",
      "77829     False  \n",
      "30318     False  \n"
     ]
    }
   ],
   "source": [
    "#need to one hot encode the y values\n",
    "y_train_enc = pd.get_dummies(y_train_pre, prefix='shape')\n",
    "y_train = pd.concat([y_train_pre, y_train_enc], axis=1)\n",
    "y_val_enc = pd.get_dummies(y_val_pre, prefix='shape')\n",
    "y_val = pd.concat([y_val_pre, y_val_enc], axis=1)\n",
    "y_test_enc = pd.get_dummies(y_test_pre, prefix='shape')\n",
    "y_test = pd.concat([y_test_pre, y_test_enc], axis=1)\n",
    "print(y_train.sample(10).head(10))"
   ]
  },
  {
   "cell_type": "code",
   "execution_count": 19,
   "id": "1c5526e6-bbd5-4069-a7ae-e6c36c99a339",
   "metadata": {},
   "outputs": [],
   "source": [
    "y_train.drop('enc_lang', axis=1, inplace=True)\n",
    "y_val.drop('enc_lang', axis=1, inplace=True)\n",
    "y_test.drop('enc_lang', axis=1, inplace=True)"
   ]
  },
  {
   "cell_type": "code",
   "execution_count": 20,
   "id": "664e3787-95a7-46fc-8829-983e05a423d0",
   "metadata": {},
   "outputs": [
    {
     "name": "stdout",
     "output_type": "stream",
     "text": [
      "(83652, 7)\n"
     ]
    }
   ],
   "source": [
    "print(y_train.shape)"
   ]
  },
  {
   "cell_type": "markdown",
   "id": "cd58360f-0b4d-448d-b697-0a5e153f00b4",
   "metadata": {},
   "source": [
    "Neural Network"
   ]
  },
  {
   "cell_type": "code",
   "execution_count": 21,
   "id": "692b27cd-2e3b-4700-9e58-12350cf71d46",
   "metadata": {},
   "outputs": [],
   "source": [
    "#model layout\n",
    "model = Sequential()\n",
    "\n",
    "model.add(Dense(20, activation=\"relu\", input_shape=(550,)))\n",
    "model.add(Dense(10, activation=\"relu\"))\n",
    "model.add(Dense(7, activation=\"softmax\"))"
   ]
  },
  {
   "cell_type": "code",
   "execution_count": 22,
   "id": "4e641f7b-4f21-4343-aae0-5accde400e95",
   "metadata": {},
   "outputs": [],
   "source": [
    "#Compile\n",
    "model.compile(optimizer='adam', loss='categorical_crossentropy', metrics=['accuracy'])"
   ]
  },
  {
   "cell_type": "code",
   "execution_count": 23,
   "id": "b1c31920-964e-4bde-ad1e-52100583f2e2",
   "metadata": {},
   "outputs": [
    {
     "name": "stdout",
     "output_type": "stream",
     "text": [
      "Model: \"sequential\"\n",
      "_________________________________________________________________\n",
      " Layer (type)                Output Shape              Param #   \n",
      "=================================================================\n",
      " dense (Dense)               (None, 20)                11020     \n",
      "                                                                 \n",
      " dense_1 (Dense)             (None, 10)                210       \n",
      "                                                                 \n",
      " dense_2 (Dense)             (None, 7)                 77        \n",
      "                                                                 \n",
      "=================================================================\n",
      "Total params: 11,307\n",
      "Trainable params: 11,307\n",
      "Non-trainable params: 0\n",
      "_________________________________________________________________\n"
     ]
    }
   ],
   "source": [
    "model.summary()"
   ]
  },
  {
   "cell_type": "code",
   "execution_count": 24,
   "id": "0554fcab-3773-4c3d-a7ff-0c0c999fdaf0",
   "metadata": {},
   "outputs": [
    {
     "name": "stdout",
     "output_type": "stream",
     "text": [
      "Epoch 1/10\n",
      "2615/2615 [==============================] - 10s 3ms/step - loss: 0.9000 - accuracy: 0.7037 - val_loss: 0.7301 - val_accuracy: 0.7599\n",
      "Epoch 2/10\n",
      "2615/2615 [==============================] - 9s 3ms/step - loss: 0.7017 - accuracy: 0.7673 - val_loss: 0.6861 - val_accuracy: 0.7734\n",
      "Epoch 3/10\n",
      "2615/2615 [==============================] - 9s 3ms/step - loss: 0.6677 - accuracy: 0.7784 - val_loss: 0.6695 - val_accuracy: 0.7802\n",
      "Epoch 4/10\n",
      "2615/2615 [==============================] - 9s 3ms/step - loss: 0.6467 - accuracy: 0.7869 - val_loss: 0.6545 - val_accuracy: 0.7871\n",
      "Epoch 5/10\n",
      "2615/2615 [==============================] - 9s 3ms/step - loss: 0.6318 - accuracy: 0.7922 - val_loss: 0.6501 - val_accuracy: 0.7902\n",
      "Epoch 6/10\n",
      "2615/2615 [==============================] - 9s 3ms/step - loss: 0.6201 - accuracy: 0.7971 - val_loss: 0.6420 - val_accuracy: 0.7887\n",
      "Epoch 7/10\n",
      "2615/2615 [==============================] - 9s 3ms/step - loss: 0.6106 - accuracy: 0.8005 - val_loss: 0.6444 - val_accuracy: 0.7919\n",
      "Epoch 8/10\n",
      "2615/2615 [==============================] - 9s 3ms/step - loss: 0.6032 - accuracy: 0.8034 - val_loss: 0.6354 - val_accuracy: 0.7952\n",
      "Epoch 9/10\n",
      "2615/2615 [==============================] - 10s 4ms/step - loss: 0.5974 - accuracy: 0.8061 - val_loss: 0.6369 - val_accuracy: 0.7934\n",
      "Epoch 10/10\n",
      "2615/2615 [==============================] - 9s 4ms/step - loss: 0.5910 - accuracy: 0.8072 - val_loss: 0.6366 - val_accuracy: 0.7958\n"
     ]
    }
   ],
   "source": [
    "hist = model.fit(X_train, y_train, epochs=10, batch_size=32, validation_data=(X_val, y_val))"
   ]
  },
  {
   "cell_type": "code",
   "execution_count": 25,
   "id": "98a9c17a-240c-47e1-87e6-44eef087e295",
   "metadata": {},
   "outputs": [
    {
     "name": "stdout",
     "output_type": "stream",
     "text": [
      "872/872 [==============================] - 1s 1ms/step\n",
      "872/872 [==============================] - 2s 2ms/step - loss: 0.6366 - accuracy: 0.7958\n",
      "accuracy on the cross validation set [0.6365818977355957, 0.7957968711853027]\n"
     ]
    }
   ],
   "source": [
    "y_proba = model.predict(X_val)\n",
    "print(\"accuracy on the cross validation set\", model.evaluate(X_val, y_val))"
   ]
  },
  {
   "cell_type": "code",
   "execution_count": 26,
   "id": "ef0c6057-27ef-47b9-95f5-38bf0245d7ed",
   "metadata": {},
   "outputs": [
    {
     "name": "stdout",
     "output_type": "stream",
     "text": [
      "872/872 [==============================] - 1s 1ms/step\n",
      "872/872 [==============================] - 2s 2ms/step - loss: 0.6303 - accuracy: 0.7950\n",
      "accuracy on the test set [0.6303496956825256, 0.7950152158737183]\n"
     ]
    }
   ],
   "source": [
    "y_proba = model.predict(X_test)\n",
    "print(\"accuracy on the test set\", model.evaluate(X_test, y_test))"
   ]
  },
  {
   "cell_type": "code",
   "execution_count": 31,
   "id": "318f9be5-5e73-40a9-a40d-0947d99d695c",
   "metadata": {},
   "outputs": [
    {
     "data": {
      "image/png": "[encoded data removed]",
      "text/plain": [
       "<Figure size 640x480 with 2 Axes>"
      ]
     },
     "metadata": {},
     "output_type": "display_data"
    }
   ],
   "source": [
    "y_pred = np.argmax(y_proba, axis=1) #make the same shape\n",
    "y_true = np.argmax(y_test, axis=1) #make the same shape\n",
    "\n",
    "cm = confusion_matrix(y_true, y_pred, labels=[0, 1, 2, 3, 4, 5, 6]) # Assuming you have 7 classes\n",
    "    \n",
    "disp = ConfusionMatrixDisplay(confusion_matrix=cm, display_labels=[\"SUX\", \"NEA\", \"STB\", \"LTB\", \"NEB\", \"MPB\", \"OLB\"]) #change from numbers back to cuneiform labels\n",
    "\n",
    "disp.plot(cmap=plt.cm.Blues, values_format=\"d\") #show real value, no scientific notation\n",
    "\n",
    "ax = plt.gca() \n",
    "\n",
    "ax.set_xticklabels([\"SUX\", \"NEA\", \"STB\", \"LTB\", \"NEB\", \"MPB\", \"OLB\"], ha='center')\n",
    "\n",
    "plt.show()"
   ]
  },
  {
   "cell_type": "markdown",
   "id": "36d30c19-57bb-4d8a-b0e3-f0718f47338d",
   "metadata": {},
   "source": [
    "More Complex Neural Network"
   ]
  },
  {
   "cell_type": "code",
   "execution_count": 32,
   "id": "d4a66e20-5e8f-4e98-82c8-748b27b8651d",
   "metadata": {},
   "outputs": [],
   "source": [
    "#More complex neural network\n",
    "model = Sequential()\n",
    "\n",
    "model.add(Dense(300, activation=\"relu\", input_shape=(550,)))\n",
    "model.add(Dense(200, activation=\"relu\"))\n",
    "model.add(Dense(100, activation=\"relu\"))\n",
    "model.add(Dense(50, activation=\"relu\"))\n",
    "model.add(Dense(7, activation=\"softmax\"))"
   ]
  },
  {
   "cell_type": "code",
   "execution_count": 33,
   "id": "60cc24f2-8e20-4008-9820-9deaf4ac08c5",
   "metadata": {},
   "outputs": [],
   "source": [
    "#Compile\n",
    "model.compile(optimizer='adam', loss='categorical_crossentropy', metrics=['accuracy'])"
   ]
  },
  {
   "cell_type": "code",
   "execution_count": 34,
   "id": "eb788210-c011-47eb-8642-50d40fda34d4",
   "metadata": {},
   "outputs": [
    {
     "name": "stdout",
     "output_type": "stream",
     "text": [
      "Model: \"sequential_1\"\n",
      "_________________________________________________________________\n",
      " Layer (type)                Output Shape              Param #   \n",
      "=================================================================\n",
      " dense_3 (Dense)             (None, 300)               165300    \n",
      "                                                                 \n",
      " dense_4 (Dense)             (None, 200)               60200     \n",
      "                                                                 \n",
      " dense_5 (Dense)             (None, 100)               20100     \n",
      "                                                                 \n",
      " dense_6 (Dense)             (None, 50)                5050      \n",
      "                                                                 \n",
      " dense_7 (Dense)             (None, 7)                 357       \n",
      "                                                                 \n",
      "=================================================================\n",
      "Total params: 251,007\n",
      "Trainable params: 251,007\n",
      "Non-trainable params: 0\n",
      "_________________________________________________________________\n"
     ]
    }
   ],
   "source": [
    "model.summary()"
   ]
  },
  {
   "cell_type": "code",
   "execution_count": 35,
   "id": "b3d9475a-b89a-439c-9a18-81e6bc4429be",
   "metadata": {},
   "outputs": [
    {
     "name": "stdout",
     "output_type": "stream",
     "text": [
      "Epoch 1/10\n",
      "2615/2615 [==============================] - 11s 4ms/step - loss: 0.6899 - accuracy: 0.7751 - val_loss: 0.5729 - val_accuracy: 0.8170\n",
      "Epoch 2/10\n",
      "2615/2615 [==============================] - 10s 4ms/step - loss: 0.5019 - accuracy: 0.8370 - val_loss: 0.5273 - val_accuracy: 0.8331\n",
      "Epoch 3/10\n",
      "2615/2615 [==============================] - 11s 4ms/step - loss: 0.4197 - accuracy: 0.8647 - val_loss: 0.5381 - val_accuracy: 0.8297\n",
      "Epoch 4/10\n",
      "2615/2615 [==============================] - 10s 4ms/step - loss: 0.3609 - accuracy: 0.8834 - val_loss: 0.5356 - val_accuracy: 0.8360\n",
      "Epoch 5/10\n",
      "2615/2615 [==============================] - 10s 4ms/step - loss: 0.3136 - accuracy: 0.8990 - val_loss: 0.5891 - val_accuracy: 0.8326\n",
      "Epoch 6/10\n",
      "2615/2615 [==============================] - 10s 4ms/step - loss: 0.2767 - accuracy: 0.9118 - val_loss: 0.6100 - val_accuracy: 0.8372\n",
      "Epoch 7/10\n",
      "2615/2615 [==============================] - 10s 4ms/step - loss: 0.2473 - accuracy: 0.9210 - val_loss: 0.6378 - val_accuracy: 0.8323\n",
      "Epoch 8/10\n",
      "2615/2615 [==============================] - 10s 4ms/step - loss: 0.2256 - accuracy: 0.9283 - val_loss: 0.6903 - val_accuracy: 0.8347\n",
      "Epoch 9/10\n",
      "2615/2615 [==============================] - 10s 4ms/step - loss: 0.2038 - accuracy: 0.9353 - val_loss: 0.7389 - val_accuracy: 0.8343\n",
      "Epoch 10/10\n",
      "2615/2615 [==============================] - 11s 4ms/step - loss: 0.1921 - accuracy: 0.9392 - val_loss: 0.7531 - val_accuracy: 0.8293\n"
     ]
    }
   ],
   "source": [
    "hist = model.fit(X_train, y_train, epochs=10, batch_size=32, validation_data=(X_val, y_val))"
   ]
  },
  {
   "cell_type": "code",
   "execution_count": 36,
   "id": "d2d4b260-73ec-4423-973e-fa85a45e6fac",
   "metadata": {},
   "outputs": [
    {
     "name": "stdout",
     "output_type": "stream",
     "text": [
      "872/872 [==============================] - 1s 2ms/step\n",
      "872/872 [==============================] - 2s 3ms/step - loss: 0.7531 - accuracy: 0.8293\n",
      "accuracy on the cross validation set [0.7530685067176819, 0.8293286561965942]\n"
     ]
    }
   ],
   "source": [
    "y_proba = model.predict(X_val)\n",
    "print(\"accuracy on the cross validation set\", model.evaluate(X_val, y_val))"
   ]
  },
  {
   "cell_type": "code",
   "execution_count": 37,
   "id": "e803440a-2c58-44c4-b6f1-6d11da2027e9",
   "metadata": {},
   "outputs": [
    {
     "name": "stdout",
     "output_type": "stream",
     "text": [
      "872/872 [==============================] - 1s 1ms/step\n",
      "872/872 [==============================] - 2s 2ms/step - loss: 0.7291 - accuracy: 0.8321\n",
      "accuracy on the test set [0.7291373014450073, 0.8320602178573608]\n"
     ]
    }
   ],
   "source": [
    "y_proba = model.predict(X_test)\n",
    "print(\"accuracy on the test set\", model.evaluate(X_test, y_test))"
   ]
  },
  {
   "cell_type": "code",
   "execution_count": 38,
   "id": "356060c2-abcf-4a27-ac14-c862b35adac6",
   "metadata": {},
   "outputs": [
    {
     "data": {
      "image/png": "[encoded data removed]",
      "text/plain": [
       "<Figure size 640x480 with 2 Axes>"
      ]
     },
     "metadata": {},
     "output_type": "display_data"
    }
   ],
   "source": [
    "y_pred = np.argmax(y_proba, axis=1) #make the same shape\n",
    "y_true = np.argmax(y_test, axis=1) #make the same shape\n",
    "\n",
    "cm = confusion_matrix(y_true, y_pred, labels=[0, 1, 2, 3, 4, 5, 6]) # Assuming you have 7 classes\n",
    "    \n",
    "disp = ConfusionMatrixDisplay(confusion_matrix=cm, display_labels=[\"SUX\", \"NEA\", \"STB\", \"LTB\", \"NEB\", \"MPB\", \"OLB\"]) #change from numbers back to cuneiform labels\n",
    "\n",
    "disp.plot(cmap=plt.cm.Oranges, values_format=\"d\") #show real value, no scientific notation\n",
    "\n",
    "ax = plt.gca() \n",
    "\n",
    "ax.set_xticklabels([\"SUX\", \"NEA\", \"STB\", \"LTB\", \"NEB\", \"MPB\", \"OLB\"], ha='center')\n",
    "\n",
    "plt.show()"
   ]
  },
  {
   "cell_type": "markdown",
   "id": "e3547bf1-2490-4c0a-ab3f-170d75dfeb63",
   "metadata": {},
   "source": [
    "Tree Ensemble"
   ]
  },
  {
   "cell_type": "code",
   "execution_count": 39,
   "id": "fb215f73-8169-48be-9e1a-b4eb94c8bd96",
   "metadata": {},
   "outputs": [],
   "source": [
    "from sklearn.tree import DecisionTreeClassifier\n",
    "from sklearn.ensemble import RandomForestClassifier\n",
    "from sklearn.ensemble import BaggingClassifier\n",
    "from sklearn.ensemble import AdaBoostClassifier\n",
    "from sklearn.metrics import accuracy_score\n",
    "from sklearn.model_selection import GridSearchCV"
   ]
  },
  {
   "cell_type": "code",
   "execution_count": 44,
   "id": "26d78756-c195-4cec-a443-c435f5d10b40",
   "metadata": {},
   "outputs": [
    {
     "name": "stdout",
     "output_type": "stream",
     "text": [
      "Score on Basic Decision Tree, TRAIN:  0.9712977573757949\n",
      "Score on Basic Decision Tree, TEST:  0.7492200107584723\n"
     ]
    }
   ],
   "source": [
    "#Decision tree\n",
    "tree_no_params = DecisionTreeClassifier(random_state=42)\n",
    "tree_no_params.fit(X_train, y_train)\n",
    "print(\"Score on Basic Decision Tree, TRAIN: \", tree_clf.score(X_train, y_train))\n",
    "print(\"Score on Basic Decision Tree, TEST: \", tree_clf.score(X_test, y_test))"
   ]
  },
  {
   "cell_type": "code",
   "execution_count": null,
   "id": "1cb14c08-0699-4c16-9e09-6ce77255f4ac",
   "metadata": {},
   "outputs": [],
   "source": []
  }
 ],
 "metadata": {
  "kernelspec": {
   "display_name": "Python 3 (ipykernel)",
   "language": "python",
   "name": "python3"
  },
  "language_info": {
   "codemirror_mode": {
    "name": "ipython",
    "version": 3
   },
   "file_extension": ".py",
   "mimetype": "text/x-python",
   "name": "python",
   "nbconvert_exporter": "python",
   "pygments_lexer": "ipython3",
   "version": "3.10.14"
  }
 },
 "nbformat": 4,
 "nbformat_minor": 5
}
